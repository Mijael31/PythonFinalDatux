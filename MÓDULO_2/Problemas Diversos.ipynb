{
 "cells": [
  {
   "cell_type": "markdown",
   "metadata": {},
   "source": [
    "# PROBLEMAS DIVERSOS"
   ]
  },
  {
   "cell_type": "markdown",
   "metadata": {},
   "source": [
    "<h3>1.</h3>\n",
    "Realizar una función que permita la carga de n alumnos. Por cada alumno se deberá preguntar el nombre completo y permitir el ingreso de 3 notas. Las notas deben estar comprendidas entre 0 y 10. Devolver el listado de alumnos."
   ]
  },
  {
   "cell_type": "code",
   "execution_count": 1,
   "metadata": {},
   "outputs": [
    {
     "name": "stdin",
     "output_type": "stream",
     "text": [
      "Digite la cantidad de alumnos a ingresar:  2\n",
      "Digite el nombre del alumno 1:  mijael\n",
      "Digite una nota:  10\n",
      "Digite una nota:  5\n",
      "Digite una nota:  5\n",
      "Digite el nombre del alumno 2:  antony\n",
      "Digite una nota:  8\n",
      "Digite una nota:  8\n",
      "Digite una nota:  8\n"
     ]
    },
    {
     "data": {
      "text/plain": [
       "[{'nombre': 'mijael', 'nota1': 10.0, 'nota2': 5.0, 'nota3': 5.0},\n",
       " {'nombre': 'antony', 'nota1': 8.0, 'nota2': 8.0, 'nota3': 8.0}]"
      ]
     },
     "execution_count": 1,
     "metadata": {},
     "output_type": "execute_result"
    }
   ],
   "source": [
    "def ingresar_nota():\n",
    "    \n",
    "    try:\n",
    "        nota = float(input(\"Digite una nota: \"))\n",
    "        \n",
    "        if nota >=0 and nota <= 10:\n",
    "            return nota\n",
    "        else:\n",
    "            print('La nota no es válida, debe estar comprendida entre 0 y 10')\n",
    "            ingresar_nota()\n",
    "    except:\n",
    "        print(\"Introduzca una nota correcta\")\n",
    "        ingresar_nota()\n",
    "        \n",
    "def listar_alumnos(cantidad_alumnos):\n",
    "    lista_alumnos = []\n",
    "    for i in range(cantidad_alumnos):\n",
    "        alumno = {}\n",
    "        ##Ingresando de nombre de alumno\n",
    "        alumno['nombre'] = input('Digite el nombre del alumno {}: '.format(i+1))\n",
    "\n",
    "        ##Ingresando las notas\n",
    "        alumno['nota1'] = ingresar_nota()\n",
    "        alumno['nota2'] = ingresar_nota()\n",
    "        alumno['nota3'] = ingresar_nota()\n",
    "    \n",
    "        ##Agregando los nombres de los alumnos\n",
    "        lista_alumnos.append(alumno)\n",
    "    \n",
    "    return lista_alumnos\n",
    "\n",
    "n = int(input('Digite la cantidad de alumnos a ingresar: '))\n",
    "listado = listar_alumnos(n)\n",
    "listado"
   ]
  },
  {
   "cell_type": "markdown",
   "metadata": {},
   "source": [
    "### 2.\n",
    "Definir una función que dado un listado de alumnos evalúe cuántos aprobaron y cuántos desaprobaron, teniendo en cuenta que se aprueba con 4. La nota será el promedio de las 3 notas para cada alumno."
   ]
  },
  {
   "cell_type": "code",
   "execution_count": 2,
   "metadata": {},
   "outputs": [
    {
     "name": "stdin",
     "output_type": "stream",
     "text": [
      "Ingrese el numero de alumnos:  2\n",
      "Digite el nombre del alumno 1:  mijael\n",
      "Digite una nota:  5\n",
      "Digite una nota:  5\n",
      "Digite una nota:  6\n",
      "Digite el nombre del alumno 2:  anthony\n",
      "Digite una nota:  5\n",
      "Digite una nota:  6\n",
      "Digite una nota:  9\n"
     ]
    },
    {
     "name": "stdout",
     "output_type": "stream",
     "text": [
      "La cantidad de alumnos aprobados es: 2\n"
     ]
    }
   ],
   "source": [
    "def aprobados():\n",
    "    m = int(input(\"Ingrese el numero de alumnos: \"))\n",
    "    listado = listar_alumnos(m)\n",
    "    c=0\n",
    "    for i in range(m):\n",
    "        n1 = listado[i]['nota1']\n",
    "        n2 = listado[i]['nota2']\n",
    "        n3 = listado[i]['nota3']\n",
    "        Prom = (n1+n2+n3)/3\n",
    "        if Prom < 4:\n",
    "            c+=1\n",
    "    print(\"La cantidad de alumnos aprobados es: {}\".format(m-c))\n",
    "    \n",
    "aprobados()"
   ]
  },
  {
   "cell_type": "markdown",
   "metadata": {},
   "source": [
    "### 3.\n",
    "Informar el promedio de nota del curso total."
   ]
  },
  {
   "cell_type": "code",
   "execution_count": 3,
   "metadata": {},
   "outputs": [
    {
     "name": "stdin",
     "output_type": "stream",
     "text": [
      "Digite el nombre del alumno 1:  5\n",
      "Digite una nota:  5\n",
      "Digite una nota:  5\n",
      "Digite una nota:  5\n",
      "Digite el nombre del alumno 2:  6\n",
      "Digite una nota:  5\n",
      "Digite una nota:  5\n",
      "Digite una nota:  5\n"
     ]
    },
    {
     "name": "stdout",
     "output_type": "stream",
     "text": [
      "El promedio final del curso es: 5.000\n"
     ]
    }
   ],
   "source": [
    "def promedio_curso(n):\n",
    "    listado = listar_alumnos(n)\n",
    "    c=0\n",
    "    S=0\n",
    "    Promedio=[]\n",
    "    for i in range(n):\n",
    "        \n",
    "        n1 = listado[i]['nota1']\n",
    "        n2 = listado[i]['nota2']\n",
    "        n3 = listado[i]['nota3']\n",
    "        Prom = (n1+n2+n3)/3\n",
    "        Promedio.append(Prom)\n",
    "        \n",
    "    for j in Promedio:\n",
    "        S = S + j \n",
    "        \n",
    "    \n",
    "    Total = S / n\n",
    "\n",
    "    \n",
    "    print(\"El promedio final del curso es: {0:.3f}\".format(Total))\n",
    "    \n",
    "promedio_curso(2)"
   ]
  },
  {
   "cell_type": "code",
   "execution_count": null,
   "metadata": {},
   "outputs": [],
   "source": []
  },
  {
   "cell_type": "markdown",
   "metadata": {},
   "source": [
    "### 4.\n",
    "Realizar una función que indique quién tuvo el promedio más alto y quién tuvo la nota promedio más baja."
   ]
  },
  {
   "cell_type": "code",
   "execution_count": 4,
   "metadata": {},
   "outputs": [
    {
     "name": "stdin",
     "output_type": "stream",
     "text": [
      "Digite el nombre del alumno 1:  mijael\n",
      "Digite una nota:  5\n",
      "Digite una nota:  6\n",
      "Digite una nota:  1\n",
      "Digite el nombre del alumno 2:  anthony\n",
      "Digite una nota:  5\n",
      "Digite una nota:  5\n",
      "Digite una nota:  5\n"
     ]
    },
    {
     "name": "stdout",
     "output_type": "stream",
     "text": [
      "El promedio más alto fue de: anthony\n",
      "El promedio más bajo fue de: mijael\n"
     ]
    }
   ],
   "source": [
    "def promedio_max_min(n):\n",
    "    listado = listar_alumnos(n)\n",
    "    c=0\n",
    "    Promedio=[]\n",
    "    for i in range(n):\n",
    "        \n",
    "        n1 = listado[i]['nota1']\n",
    "        n2 = listado[i]['nota2']\n",
    "        n3 = listado[i]['nota3']\n",
    "        Prom = (n1+n2+n3)/3\n",
    "        Promedio.append(Prom)\n",
    "        \n",
    "    maximo=max(Promedio)\n",
    "    minimo=min(Promedio)\n",
    "    a=Promedio.index(maximo)\n",
    "    b=Promedio.index(minimo)\n",
    "    \n",
    "    print(\"El promedio más alto fue de: {}\".format(listado[a]['nombre']))\n",
    "    print(\"El promedio más bajo fue de: {}\".format(listado[b]['nombre']))\n",
    "        \n",
    "promedio_max_min(2)"
   ]
  },
  {
   "cell_type": "code",
   "execution_count": null,
   "metadata": {
    "jupyter": {
     "source_hidden": true
    }
   },
   "outputs": [],
   "source": []
  },
  {
   "cell_type": "code",
   "execution_count": null,
   "metadata": {},
   "outputs": [],
   "source": []
  },
  {
   "cell_type": "markdown",
   "metadata": {},
   "source": [
    "### 5.\n",
    "Realizar una función que permita buscar un alumno por nombre, siendo el nombre completo o parcial, y devuelva una lista con los n alumnos que concuerden con ese nombre junto con todos sus datos, incluido el promedio de sus notas."
   ]
  },
  {
   "cell_type": "code",
   "execution_count": 8,
   "metadata": {},
   "outputs": [
    {
     "name": "stdout",
     "output_type": "stream",
     "text": [
      "[{'nombre': 'mijael', 'nota1': 10.0, 'nota2': 5.0, 'nota3': 5.0, 'Promedio': 6.667}, {'nombre': 'antony', 'nota1': 8.0, 'nota2': 8.0, 'nota3': 8.0, 'Promedio': 8.0}]\n",
      "{'nombre': 'mijael', 'nota1': 10.0, 'nota2': 5.0, 'nota3': 5.0, 'Promedio': 6.667}\n",
      "No se ha encontrado alumnos con ese nombre:\n"
     ]
    }
   ],
   "source": [
    "print(listado)\n",
    "\n",
    "for i in range(len(listado)):\n",
    "        \n",
    "        n1 = listado[i]['nota1']\n",
    "        n2 = listado[i]['nota2']\n",
    "        n3 = listado[i]['nota3']\n",
    "        prom = round((n1+n2+n3)/3,3)\n",
    "        listado[i]['Promedio'] = prom\n",
    "\n",
    "listado\n",
    "\n",
    "\n",
    "def Busqueda(texto):\n",
    "    try:\n",
    "        for i in range(3):\n",
    "            if texto == listado[i]['nombre']:\n",
    "                print(listado[i])\n",
    "    except:    \n",
    "        print(\"No se ha encontrado alumnos con ese nombre:\")\n",
    "            \n",
    "Busqueda(\"mijael\")"
   ]
  },
  {
   "cell_type": "code",
   "execution_count": null,
   "metadata": {},
   "outputs": [],
   "source": []
  }
 ],
 "metadata": {
  "kernelspec": {
   "display_name": "Python 3",
   "language": "python",
   "name": "python3"
  },
  "language_info": {
   "codemirror_mode": {
    "name": "ipython",
    "version": 3
   },
   "file_extension": ".py",
   "mimetype": "text/x-python",
   "name": "python",
   "nbconvert_exporter": "python",
   "pygments_lexer": "ipython3",
   "version": "3.8.5"
  }
 },
 "nbformat": 4,
 "nbformat_minor": 4
}
